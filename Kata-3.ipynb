{
 "cells": [
  {
   "cell_type": "markdown",
   "metadata": {},
   "source": [
    "# Kata-3\n",
    "Ejercicio - Escribir declaraciones if, else, y elif"
   ]
  },
  {
   "cell_type": "code",
   "execution_count": 3,
   "metadata": {},
   "outputs": [
    {
     "name": "stdout",
     "output_type": "stream",
     "text": [
      "PELIGRO INMINENTE\n"
     ]
    }
   ],
   "source": [
    "Vel_ast = 49\n",
    "\n",
    "if Vel_ast > 25:\n",
    "\n",
    "    print(\"PELIGRO INMINENTE\")\n",
    "\n",
    "else:\n",
    "    print(\"Sin riesgos mayores\")"
   ]
  },
  {
   "cell_type": "markdown",
   "metadata": {},
   "source": [
    "# Actividad numero 2\n",
    "\n",
    "Un asteroide entra en la atmósfera de la Tierra a una velocidad mayor o igual a 20 km/s, a veces produce un rayo de luz que se puede ver desde la Tierra. Escribe la lógica condicional que usa declaraciones if, else, y elif para alertar a las personas de todo el mundo que deben buscar un asteroide en el cielo. ¡Hay uno que se dirige a la tierra ahora a una velocidad de 19 km/s!"
   ]
  },
  {
   "cell_type": "code",
   "execution_count": 5,
   "metadata": {},
   "outputs": [
    {
     "name": "stdout",
     "output_type": "stream",
     "text": [
      "Sin riesgos mayores\n"
     ]
    }
   ],
   "source": [
    "Vel_ast = 19\n",
    "\n",
    "if Vel_ast >= 25:\n",
    "\n",
    "    print(\"PELIGRO INMINENTE\")\n",
    "\n",
    "elif Vel_ast >=20:\n",
    "    print(\"Buscar asteroide en el cielo\")\n",
    "\n",
    "else:\n",
    "    print(\"Sin riesgos mayores\")"
   ]
  },
  {
   "cell_type": "markdown",
   "metadata": {},
   "source": []
  },
  {
   "cell_type": "markdown",
   "metadata": {},
   "source": [
    "# Ejercicio: Uso de operadores and y or\n",
    "\n"
   ]
  },
  {
   "cell_type": "code",
   "execution_count": 7,
   "metadata": {},
   "outputs": [
    {
     "name": "stdout",
     "output_type": "stream",
     "text": [
      "peligro inmiente\n"
     ]
    }
   ],
   "source": [
    "Vel_ast = 25\n",
    "\n",
    "Dimension = 40\n",
    "\n",
    "if Vel_ast >= 25 and Dimension >= 25:\n",
    "\n",
    "    print(\"peligro inmiente\")\n",
    "\n",
    "elif Vel_ast > 20:\n",
    "    print(\"Buscar asteroide en el cielo\")\n",
    "\n",
    "else:\n",
    "    print(\"Sin riesgos mayores\")\n"
   ]
  }
 ],
 "metadata": {
  "interpreter": {
   "hash": "8da01e5a71448ea74f54d88afa8911010d1d12e23bc7e103d40d5def4a09152c"
  },
  "kernelspec": {
   "display_name": "Python 3.9.5 64-bit",
   "language": "python",
   "name": "python3"
  },
  "language_info": {
   "codemirror_mode": {
    "name": "ipython",
    "version": 3
   },
   "file_extension": ".py",
   "mimetype": "text/x-python",
   "name": "python",
   "nbconvert_exporter": "python",
   "pygments_lexer": "ipython3",
   "version": "3.9.5"
  },
  "orig_nbformat": 4
 },
 "nbformat": 4,
 "nbformat_minor": 2
}

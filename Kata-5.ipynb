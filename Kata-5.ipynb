{
 "cells": [
  {
   "cell_type": "markdown",
   "metadata": {},
   "source": [
    "# Ejercicio1 - Utilizar operadores aritméticos\n",
    "\n",
    "Crear un programa que pueda calcular la distancia entre dos planetas. Comenzaremos usando dos distancias de planetas: Tierra (149.597.870 km) y Júpiter (778.547.200 km)."
   ]
  },
  {
   "cell_type": "code",
   "execution_count": 11,
   "metadata": {},
   "outputs": [],
   "source": [
    "Tierra = 149597870\n",
    "Jupiter = 778547200"
   ]
  },
  {
   "cell_type": "markdown",
   "metadata": {},
   "source": [
    "# Realizar la operación\n",
    "Con los valores obtenidos, es el momento de añadir el código para realizar la operación. Restarás el primer planeta del segundo para determinar la distancia en kilómetros. A continuación, puedes convertir la distancia del kilómetro en millas multiplicándola por 0.621."
   ]
  },
  {
   "cell_type": "code",
   "execution_count": 12,
   "metadata": {},
   "outputs": [
    {
     "name": "stdout",
     "output_type": "stream",
     "text": [
      "Distancia entre los planetas en km es: 628949330 \n",
      "Distancia en los planetas en millas es:  390577534\n"
     ]
    }
   ],
   "source": [
    "Distancia= abs(Tierra - Jupiter)\n",
    "\n",
    "Conversion= round(Distancia * .621)\n",
    "\n",
    "print(f\"\"\"Distancia entre los planetas en km es: {Distancia} \n",
    "Distancia en los planetas en millas es:  {Conversion}\"\"\")\n"
   ]
  },
  {
   "cell_type": "markdown",
   "metadata": {},
   "source": [
    "# Ejercicio 2: convierte cadenas en números y usa valores absolutos"
   ]
  },
  {
   "cell_type": "code",
   "execution_count": 7,
   "metadata": {},
   "outputs": [],
   "source": [
    "input(\"¿Cuál es tu nombre?\")\n",
    "\n",
    "Planeta1 = input(\"ingrese la distancia del planeta 1\")\n",
    "\n",
    "Planeta2 = input(\"ingrese la distancia del planeta 1\")\n",
    "\n"
   ]
  },
  {
   "cell_type": "markdown",
   "metadata": {},
   "source": [
    "# Convertir a número\n",
    "Debido a que input devuelve valores de cadena, necesitamos convertirlos en números. Para nuestro ejemplo, usaremos int"
   ]
  },
  {
   "cell_type": "code",
   "execution_count": 8,
   "metadata": {},
   "outputs": [],
   "source": [
    "input(\"¿Cuál es tu nombre?\")\n",
    "\n",
    "Planeta1 = input(\"ingrese la distancia del planeta 1\")\n",
    "\n",
    "Planeta2 = input(\"ingrese la distancia del planeta 2\")\n",
    "\n",
    "Dato1= int(Planeta1)\n",
    "Dato2= int(Planeta2)\n",
    "\n"
   ]
  },
  {
   "cell_type": "code",
   "execution_count": 13,
   "metadata": {},
   "outputs": [
    {
     "name": "stdout",
     "output_type": "stream",
     "text": [
      "Distancia entre los planetas en km es: 2093900000 \n",
      "Distancia en los planetas en millas es:  1300311900\n"
     ]
    }
   ],
   "source": [
    "input(\"¿Cuál es tu nombre?\")\n",
    "\n",
    "Planeta1 = input(\"ingrese la distancia del planeta 1\")\n",
    "\n",
    "Planeta2 = input(\"ingrese la distancia del planeta 2\")\n",
    "\n",
    "Dato1= int(Planeta1)\n",
    "Dato2= int(Planeta2)\n",
    "\n",
    "Distancia2= abs(Dato2 - Dato1)\n",
    "\n",
    "Conversion2= round(Distancia2 * .621)\n",
    "\n",
    "print(f\"\"\"Distancia entre los planetas en km es: {Distancia2} \n",
    "Distancia en los planetas en millas es:  {Conversion2}\"\"\")"
   ]
  }
 ],
 "metadata": {
  "interpreter": {
   "hash": "8da01e5a71448ea74f54d88afa8911010d1d12e23bc7e103d40d5def4a09152c"
  },
  "kernelspec": {
   "display_name": "Python 3.9.5 64-bit",
   "language": "python",
   "name": "python3"
  },
  "language_info": {
   "codemirror_mode": {
    "name": "ipython",
    "version": 3
   },
   "file_extension": ".py",
   "mimetype": "text/x-python",
   "name": "python",
   "nbconvert_exporter": "python",
   "pygments_lexer": "ipython3",
   "version": "3.9.5"
  },
  "orig_nbformat": 4
 },
 "nbformat": 4,
 "nbformat_minor": 2
}

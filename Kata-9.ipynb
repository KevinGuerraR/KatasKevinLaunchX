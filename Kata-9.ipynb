{
 "cells": [
  {
   "cell_type": "markdown",
   "metadata": {},
   "source": [
    "# Kata-9\n",
    "# Ejercicio: Uso de funciones en Python\n",
    "Ejercicio 1: Trabajar con argumentos en funciones"
   ]
  },
  {
   "cell_type": "code",
   "execution_count": 8,
   "metadata": {},
   "outputs": [
    {
     "name": "stdout",
     "output_type": "stream",
     "text": [
      "Reporte de combustible en el nave:\n",
      "    Promedio de combustible: 33.333333333333336%\n",
      "    Porcentaje Tanque 1: 20\n",
      "    Porcentaje Tanque 2: 30\n",
      "    Porcentaje Tanque 3: 50 \n",
      "    \n"
     ]
    }
   ],
   "source": [
    "def Comb_pla(tank1, tank2, tank3 ):\n",
    "    promedio_comb=(tank1 + tank2 + tank3)/3\n",
    "\n",
    "    return f\"\"\"Reporte de combustible en el nave:\n",
    "    Promedio de combustible: {promedio_comb}\n",
    "    Porcentaje Tanque 1: {tank1}\n",
    "    Porcentaje Tanque 2: {tank2}\n",
    "    Porcentaje Tanque 3: {tank3} \n",
    "    \"\"\"\n",
    "print(Comb_pla(20,30,50))"
   ]
  },
  {
   "cell_type": "markdown",
   "metadata": {},
   "source": [
    "En lugar de simplemente crear el informe, la función también está calculando el promedio. Mejora la legibilidad extrayendo el cálculo promedio de la función en una nueva función para que el promedio se pueda hacer de forma independiente:"
   ]
  },
  {
   "cell_type": "code",
   "execution_count": 20,
   "metadata": {},
   "outputs": [
    {
     "name": "stdout",
     "output_type": "stream",
     "text": [
      "33.333333333333336\n"
     ]
    }
   ],
   "source": [
    "def Promedio(val1, val2, val3):\n",
    "    total = (val1 + val2 + val3 )\n",
    "    return total / 3\n",
    "\n",
    "Promedio(30,60,90) \n",
    "print(Promedio(20,30,50))\n"
   ]
  },
  {
   "cell_type": "markdown",
   "metadata": {},
   "source": [
    "Ahora actualiza la función de informes para llamando a la nueva función del promedio:"
   ]
  },
  {
   "cell_type": "code",
   "execution_count": 21,
   "metadata": {},
   "outputs": [
    {
     "name": "stdout",
     "output_type": "stream",
     "text": [
      "Reporte de combustible en el nave:\n",
      "    Promedio de combustible: 33.333333333333336\n",
      "    Porcentaje Tanque 1: 20\n",
      "    Porcentaje Tanque 2: 30\n",
      "    Porcentaje Tanque 3: 50 \n",
      "    \n"
     ]
    }
   ],
   "source": [
    "def Comb_pla2(tank1, tank2, tank3 ):\n",
    "\n",
    "\n",
    "    return f\"\"\"Reporte de combustible en el nave:\n",
    "    Promedio de combustible: {Promedio(tank1, tank2, tank3)}\n",
    "    Porcentaje Tanque 1: {tank1}\n",
    "    Porcentaje Tanque 2: {tank2}\n",
    "    Porcentaje Tanque 3: {tank3} \n",
    "    \"\"\"\n",
    "print(Comb_pla2(20,30,50))"
   ]
  },
  {
   "cell_type": "markdown",
   "metadata": {},
   "source": [
    "# Ejercicio 2: Trabajo con argumentos de palabra clave\n",
    "Ejercicio : Trabajar con argumentos de palabras clave en funciones\n",
    "En este ejercicio, construirás un informe de cohete que requiere varias piezas de información, como el tiempo hasta el destino, el combustible a la izquierda y el nombre del destino. Comienza por crear una función que creará un informe preciso de la misión:\n",
    "\n",
    "#Función con un informe preciso de la misión. Considera hora de prelanzamiento, tiempo de vuelo, destino, tanque externo y tanque interno"
   ]
  },
  {
   "cell_type": "code",
   "execution_count": 23,
   "metadata": {},
   "outputs": [
    {
     "name": "stdout",
     "output_type": "stream",
     "text": [
      "Reporte Completo de la nave:\n",
      "    Destino de la mision Marte\n",
      "    Tiempo de viaje: 70 minutos\n",
      "    Total fuel left: 10127403 galones\n",
      "    \n"
     ]
    }
   ],
   "source": [
    "def Inf_Final(Hora_de_Prelanzamiento, tiempo_de_vuelo, destino, tanque_externo, tanque_interno):\n",
    "\n",
    "\n",
    "    return f\"\"\"Reporte Completo de la nave:\n",
    "    Destino de la mision {destino}\n",
    "    Tiempo de viaje: {Hora_de_Prelanzamiento + tiempo_de_vuelo} minutos\n",
    "    Total fuel left: {tanque_externo + tanque_interno} galones\n",
    "    \"\"\"\n",
    "print(Inf_Final(40, 30, \"Marte\", 505203, 9622200))"
   ]
  },
  {
   "cell_type": "markdown",
   "metadata": {},
   "source": [
    "La función es problemática porque no se puede adaptar para minutos adicionales o tanques adicionales de combustible. Hazlo más flexible permitiendo cualquier número de pasos basados en el tiempo y cualquier número de tanques. En lugar de usar *args y **kwargs, aprovecha el hecho de que puedes usar cualquier nombre que desees. Asegurate que la función sea más legible mediante el uso de nombres de variables que están asociados con las entradas, como *minutes y **fuel_reservoirs:"
   ]
  },
  {
   "cell_type": "code",
   "execution_count": 25,
   "metadata": {},
   "outputs": [
    {
     "name": "stdout",
     "output_type": "stream",
     "text": [
      "\n",
      "    Mision con destino a: Marte\n",
      "    Tiempo de viaje: 97 minutos\n",
      "    Combustible restante: 1555300\n",
      "    \n"
     ]
    }
   ],
   "source": [
    "def Inf_Fina2(destino, *minutos, **reserva_combustible):\n",
    "    return f\"\"\"\n",
    "    Mision con destino a: {destino}\n",
    "    Tiempo de viaje: {sum(minutos)} minutos\n",
    "    Combustible restante: {sum(reserva_combustible.values())}\n",
    "    \"\"\"\n",
    "\n",
    "print(Inf_Fina2(\"Marte\", 20, 45, 32, principal=976000, Secundario=579300))"
   ]
  },
  {
   "cell_type": "markdown",
   "metadata": {},
   "source": [
    "Debido a que el combustible que queda en los tanques es específico de cada tanque, actualiza la función para usar el nombre de cada tanque en el informe:"
   ]
  },
  {
   "cell_type": "code",
   "execution_count": 29,
   "metadata": {},
   "outputs": [
    {
     "name": "stdout",
     "output_type": "stream",
     "text": [
      "\n",
      "    Mision con destino a: Marte\n",
      "    Tiempo de viaje: 160 minutes\n",
      "    Combustible restante: 5705100\n",
      "    Principal tanque--> 5623000 galones restantes\n",
      "    Secundario tanque--> 82100 galones restantes\n",
      "    \n"
     ]
    }
   ],
   "source": [
    "def Inf_Fina3(destino2, *minutos2, **reserva_combustible2):\n",
    "    reporte_final1 = f\"\"\"\n",
    "    Mision con destino a: {destino2}\n",
    "    Tiempo de viaje: {sum(minutos2)} minutes\n",
    "    Combustible restante: {sum(reserva_combustible2.values())}\n",
    "    \"\"\"\n",
    "    for nombre_tanque1, galones in reserva_combustible2.items():\n",
    "        reporte_final1 += f\"{nombre_tanque1} tanque--> {galones} galones restantes\\n    \"\n",
    "    return reporte_final1\n",
    "\n",
    "print(Inf_Fina3(\"Marte\", 60, 45, 55, Principal=5623000, Secundario=82100))"
   ]
  }
 ],
 "metadata": {
  "interpreter": {
   "hash": "8da01e5a71448ea74f54d88afa8911010d1d12e23bc7e103d40d5def4a09152c"
  },
  "kernelspec": {
   "display_name": "Python 3.9.5 64-bit",
   "language": "python",
   "name": "python3"
  },
  "language_info": {
   "codemirror_mode": {
    "name": "ipython",
    "version": 3
   },
   "file_extension": ".py",
   "mimetype": "text/x-python",
   "name": "python",
   "nbconvert_exporter": "python",
   "pygments_lexer": "ipython3",
   "version": "3.9.5"
  },
  "orig_nbformat": 4
 },
 "nbformat": 4,
 "nbformat_minor": 2
}
